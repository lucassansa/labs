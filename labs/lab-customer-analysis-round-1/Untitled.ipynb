{
 "cells": [
  {
   "cell_type": "code",
   "execution_count": 42,
   "id": "e687e9e8-8242-44e2-9b46-a932e9372e1e",
   "metadata": {},
   "outputs": [],
   "source": [
    "import pandas as pd\n",
    "import numpy as np \n",
    "d1=pd.read_csv('./files_for_lab/csv_files/file1.csv')\n",
    "d2=pd.read_csv('./files_for_lab/csv_files/file2.csv')\n",
    "d3=pd.read_csv('./files_for_lab/csv_files/file3.csv')"
   ]
  },
  {
   "cell_type": "code",
   "execution_count": 43,
   "id": "bbdbf0a7-49c2-4f45-9ce4-8193ac19dbfa",
   "metadata": {},
   "outputs": [
    {
     "data": {
      "text/plain": [
       "(4008, 11)"
      ]
     },
     "execution_count": 43,
     "metadata": {},
     "output_type": "execute_result"
    }
   ],
   "source": [
    "d1.shape"
   ]
  },
  {
   "cell_type": "code",
   "execution_count": 44,
   "id": "ff4d9d52-0b03-486c-80a0-c9fd52ecb68f",
   "metadata": {},
   "outputs": [
    {
     "data": {
      "text/plain": [
       "(996, 11)"
      ]
     },
     "execution_count": 44,
     "metadata": {},
     "output_type": "execute_result"
    }
   ],
   "source": [
    "d2.shape"
   ]
  },
  {
   "cell_type": "code",
   "execution_count": 45,
   "id": "9fd1e290-285a-468b-8750-7cfb36e4326c",
   "metadata": {},
   "outputs": [
    {
     "data": {
      "text/plain": [
       "(7070, 11)"
      ]
     },
     "execution_count": 45,
     "metadata": {},
     "output_type": "execute_result"
    }
   ],
   "source": [
    "d3.shape"
   ]
  },
  {
   "cell_type": "code",
   "execution_count": 46,
   "id": "8dc06f0a-aa6f-4f74-8df8-cc9fb5e11f22",
   "metadata": {},
   "outputs": [],
   "source": [
    "cols1=[]\n",
    "for c in d1.columns:\n",
    "    cols1.append(c.capitalize())\n",
    "d1.columns=cols1\n",
    "\n",
    "cols2=[]\n",
    "for c in d2.columns:\n",
    "    cols2.append(c.capitalize())\n",
    "d2.columns=cols2\n",
    "\n",
    "cols3=[]\n",
    "for c in d3.columns:\n",
    "    cols3.append(c.capitalize())\n",
    "d3.columns=cols3"
   ]
  },
  {
   "cell_type": "code",
   "execution_count": 47,
   "id": "22bc62dd-bb4a-4718-bb31-81643bddb01f",
   "metadata": {},
   "outputs": [
    {
     "data": {
      "text/plain": [
       "['Customer',\n",
       " 'St',\n",
       " 'Gender',\n",
       " 'Education',\n",
       " 'Customer lifetime value',\n",
       " 'Income',\n",
       " 'Monthly premium auto',\n",
       " 'Number of open complaints',\n",
       " 'Policy type',\n",
       " 'Vehicle class',\n",
       " 'Total claim amount']"
      ]
     },
     "execution_count": 47,
     "metadata": {},
     "output_type": "execute_result"
    }
   ],
   "source": [
    "cols1"
   ]
  },
  {
   "cell_type": "code",
   "execution_count": 48,
   "id": "d3254758-76f7-42d0-8c06-8b704779bbd0",
   "metadata": {},
   "outputs": [],
   "source": [
    "data = pd.concat([d1,d2,d3],axis=0)"
   ]
  },
  {
   "cell_type": "code",
   "execution_count": 49,
   "id": "7b4d7994-f6fe-4848-be98-ab3cd7ff69db",
   "metadata": {},
   "outputs": [
    {
     "data": {
      "text/html": [
       "<div>\n",
       "<style scoped>\n",
       "    .dataframe tbody tr th:only-of-type {\n",
       "        vertical-align: middle;\n",
       "    }\n",
       "\n",
       "    .dataframe tbody tr th {\n",
       "        vertical-align: top;\n",
       "    }\n",
       "\n",
       "    .dataframe thead th {\n",
       "        text-align: right;\n",
       "    }\n",
       "</style>\n",
       "<table border=\"1\" class=\"dataframe\">\n",
       "  <thead>\n",
       "    <tr style=\"text-align: right;\">\n",
       "      <th></th>\n",
       "      <th>Customer</th>\n",
       "      <th>St</th>\n",
       "      <th>Gender</th>\n",
       "      <th>Education</th>\n",
       "      <th>Customer lifetime value</th>\n",
       "      <th>Income</th>\n",
       "      <th>Monthly premium auto</th>\n",
       "      <th>Number of open complaints</th>\n",
       "      <th>Policy type</th>\n",
       "      <th>Vehicle class</th>\n",
       "      <th>Total claim amount</th>\n",
       "      <th>State</th>\n",
       "    </tr>\n",
       "  </thead>\n",
       "  <tbody>\n",
       "    <tr>\n",
       "      <th>0</th>\n",
       "      <td>RB50392</td>\n",
       "      <td>Washington</td>\n",
       "      <td>NaN</td>\n",
       "      <td>Master</td>\n",
       "      <td>NaN</td>\n",
       "      <td>0.0</td>\n",
       "      <td>1000.0</td>\n",
       "      <td>1/0/00</td>\n",
       "      <td>Personal Auto</td>\n",
       "      <td>Four-Door Car</td>\n",
       "      <td>2.704934</td>\n",
       "      <td>NaN</td>\n",
       "    </tr>\n",
       "    <tr>\n",
       "      <th>1</th>\n",
       "      <td>QZ44356</td>\n",
       "      <td>Arizona</td>\n",
       "      <td>F</td>\n",
       "      <td>Bachelor</td>\n",
       "      <td>697953.59%</td>\n",
       "      <td>0.0</td>\n",
       "      <td>94.0</td>\n",
       "      <td>1/0/00</td>\n",
       "      <td>Personal Auto</td>\n",
       "      <td>Four-Door Car</td>\n",
       "      <td>1131.464935</td>\n",
       "      <td>NaN</td>\n",
       "    </tr>\n",
       "    <tr>\n",
       "      <th>2</th>\n",
       "      <td>AI49188</td>\n",
       "      <td>Nevada</td>\n",
       "      <td>F</td>\n",
       "      <td>Bachelor</td>\n",
       "      <td>1288743.17%</td>\n",
       "      <td>48767.0</td>\n",
       "      <td>108.0</td>\n",
       "      <td>1/0/00</td>\n",
       "      <td>Personal Auto</td>\n",
       "      <td>Two-Door Car</td>\n",
       "      <td>566.472247</td>\n",
       "      <td>NaN</td>\n",
       "    </tr>\n",
       "    <tr>\n",
       "      <th>3</th>\n",
       "      <td>WW63253</td>\n",
       "      <td>California</td>\n",
       "      <td>M</td>\n",
       "      <td>Bachelor</td>\n",
       "      <td>764586.18%</td>\n",
       "      <td>0.0</td>\n",
       "      <td>106.0</td>\n",
       "      <td>1/0/00</td>\n",
       "      <td>Corporate Auto</td>\n",
       "      <td>SUV</td>\n",
       "      <td>529.881344</td>\n",
       "      <td>NaN</td>\n",
       "    </tr>\n",
       "    <tr>\n",
       "      <th>4</th>\n",
       "      <td>GA49547</td>\n",
       "      <td>Washington</td>\n",
       "      <td>M</td>\n",
       "      <td>High School or Below</td>\n",
       "      <td>536307.65%</td>\n",
       "      <td>36357.0</td>\n",
       "      <td>68.0</td>\n",
       "      <td>1/0/00</td>\n",
       "      <td>Personal Auto</td>\n",
       "      <td>Four-Door Car</td>\n",
       "      <td>17.269323</td>\n",
       "      <td>NaN</td>\n",
       "    </tr>\n",
       "    <tr>\n",
       "      <th>...</th>\n",
       "      <td>...</td>\n",
       "      <td>...</td>\n",
       "      <td>...</td>\n",
       "      <td>...</td>\n",
       "      <td>...</td>\n",
       "      <td>...</td>\n",
       "      <td>...</td>\n",
       "      <td>...</td>\n",
       "      <td>...</td>\n",
       "      <td>...</td>\n",
       "      <td>...</td>\n",
       "      <td>...</td>\n",
       "    </tr>\n",
       "    <tr>\n",
       "      <th>7065</th>\n",
       "      <td>LA72316</td>\n",
       "      <td>NaN</td>\n",
       "      <td>M</td>\n",
       "      <td>Bachelor</td>\n",
       "      <td>23405.98798</td>\n",
       "      <td>71941.0</td>\n",
       "      <td>73.0</td>\n",
       "      <td>0</td>\n",
       "      <td>Personal Auto</td>\n",
       "      <td>Four-Door Car</td>\n",
       "      <td>198.234764</td>\n",
       "      <td>California</td>\n",
       "    </tr>\n",
       "    <tr>\n",
       "      <th>7066</th>\n",
       "      <td>PK87824</td>\n",
       "      <td>NaN</td>\n",
       "      <td>F</td>\n",
       "      <td>College</td>\n",
       "      <td>3096.511217</td>\n",
       "      <td>21604.0</td>\n",
       "      <td>79.0</td>\n",
       "      <td>0</td>\n",
       "      <td>Corporate Auto</td>\n",
       "      <td>Four-Door Car</td>\n",
       "      <td>379.200000</td>\n",
       "      <td>California</td>\n",
       "    </tr>\n",
       "    <tr>\n",
       "      <th>7067</th>\n",
       "      <td>TD14365</td>\n",
       "      <td>NaN</td>\n",
       "      <td>M</td>\n",
       "      <td>Bachelor</td>\n",
       "      <td>8163.890428</td>\n",
       "      <td>0.0</td>\n",
       "      <td>85.0</td>\n",
       "      <td>3</td>\n",
       "      <td>Corporate Auto</td>\n",
       "      <td>Four-Door Car</td>\n",
       "      <td>790.784983</td>\n",
       "      <td>California</td>\n",
       "    </tr>\n",
       "    <tr>\n",
       "      <th>7068</th>\n",
       "      <td>UP19263</td>\n",
       "      <td>NaN</td>\n",
       "      <td>M</td>\n",
       "      <td>College</td>\n",
       "      <td>7524.442436</td>\n",
       "      <td>21941.0</td>\n",
       "      <td>96.0</td>\n",
       "      <td>0</td>\n",
       "      <td>Personal Auto</td>\n",
       "      <td>Four-Door Car</td>\n",
       "      <td>691.200000</td>\n",
       "      <td>California</td>\n",
       "    </tr>\n",
       "    <tr>\n",
       "      <th>7069</th>\n",
       "      <td>Y167826</td>\n",
       "      <td>NaN</td>\n",
       "      <td>M</td>\n",
       "      <td>College</td>\n",
       "      <td>2611.836866</td>\n",
       "      <td>0.0</td>\n",
       "      <td>77.0</td>\n",
       "      <td>0</td>\n",
       "      <td>Corporate Auto</td>\n",
       "      <td>Two-Door Car</td>\n",
       "      <td>369.600000</td>\n",
       "      <td>California</td>\n",
       "    </tr>\n",
       "  </tbody>\n",
       "</table>\n",
       "<p>12074 rows × 12 columns</p>\n",
       "</div>"
      ],
      "text/plain": [
       "     Customer          St Gender             Education  \\\n",
       "0     RB50392  Washington    NaN                Master   \n",
       "1     QZ44356     Arizona      F              Bachelor   \n",
       "2     AI49188      Nevada      F              Bachelor   \n",
       "3     WW63253  California      M              Bachelor   \n",
       "4     GA49547  Washington      M  High School or Below   \n",
       "...       ...         ...    ...                   ...   \n",
       "7065  LA72316         NaN      M              Bachelor   \n",
       "7066  PK87824         NaN      F               College   \n",
       "7067  TD14365         NaN      M              Bachelor   \n",
       "7068  UP19263         NaN      M               College   \n",
       "7069  Y167826         NaN      M               College   \n",
       "\n",
       "     Customer lifetime value   Income  Monthly premium auto  \\\n",
       "0                        NaN      0.0                1000.0   \n",
       "1                 697953.59%      0.0                  94.0   \n",
       "2                1288743.17%  48767.0                 108.0   \n",
       "3                 764586.18%      0.0                 106.0   \n",
       "4                 536307.65%  36357.0                  68.0   \n",
       "...                      ...      ...                   ...   \n",
       "7065             23405.98798  71941.0                  73.0   \n",
       "7066             3096.511217  21604.0                  79.0   \n",
       "7067             8163.890428      0.0                  85.0   \n",
       "7068             7524.442436  21941.0                  96.0   \n",
       "7069             2611.836866      0.0                  77.0   \n",
       "\n",
       "     Number of open complaints     Policy type  Vehicle class  \\\n",
       "0                       1/0/00   Personal Auto  Four-Door Car   \n",
       "1                       1/0/00   Personal Auto  Four-Door Car   \n",
       "2                       1/0/00   Personal Auto   Two-Door Car   \n",
       "3                       1/0/00  Corporate Auto            SUV   \n",
       "4                       1/0/00   Personal Auto  Four-Door Car   \n",
       "...                        ...             ...            ...   \n",
       "7065                         0   Personal Auto  Four-Door Car   \n",
       "7066                         0  Corporate Auto  Four-Door Car   \n",
       "7067                         3  Corporate Auto  Four-Door Car   \n",
       "7068                         0   Personal Auto  Four-Door Car   \n",
       "7069                         0  Corporate Auto   Two-Door Car   \n",
       "\n",
       "      Total claim amount       State  \n",
       "0               2.704934         NaN  \n",
       "1            1131.464935         NaN  \n",
       "2             566.472247         NaN  \n",
       "3             529.881344         NaN  \n",
       "4              17.269323         NaN  \n",
       "...                  ...         ...  \n",
       "7065          198.234764  California  \n",
       "7066          379.200000  California  \n",
       "7067          790.784983  California  \n",
       "7068          691.200000  California  \n",
       "7069          369.600000  California  \n",
       "\n",
       "[12074 rows x 12 columns]"
      ]
     },
     "execution_count": 49,
     "metadata": {},
     "output_type": "execute_result"
    }
   ],
   "source": [
    "data"
   ]
  },
  {
   "cell_type": "code",
   "execution_count": 50,
   "id": "05256d4a-c3b8-428a-af3f-da2cd47a1017",
   "metadata": {},
   "outputs": [
    {
     "data": {
      "text/plain": [
       "(12074, 12)"
      ]
     },
     "execution_count": 50,
     "metadata": {},
     "output_type": "execute_result"
    }
   ],
   "source": [
    "data.shape"
   ]
  },
  {
   "cell_type": "code",
   "execution_count": 51,
   "id": "43a6d18c-c042-4c48-b618-e6a79eb10ae5",
   "metadata": {},
   "outputs": [
    {
     "data": {
      "text/plain": [
       "Index(['Customer', 'St', 'Gender', 'Education', 'Customer lifetime value',\n",
       "       'Income', 'Monthly premium auto', 'Number of open complaints',\n",
       "       'Policy type', 'Vehicle class', 'Total claim amount', 'State'],\n",
       "      dtype='object')"
      ]
     },
     "execution_count": 51,
     "metadata": {},
     "output_type": "execute_result"
    }
   ],
   "source": [
    "data.columns"
   ]
  },
  {
   "cell_type": "code",
   "execution_count": 56,
   "id": "40fa2edf-8d58-4ec9-b6cd-1b423106ba7e",
   "metadata": {},
   "outputs": [],
   "source": [
    "data = data.drop(['Education','Number of open complaints'], axis=1)"
   ]
  },
  {
   "cell_type": "code",
   "execution_count": 58,
   "id": "967c474d-2331-491d-a26f-42e971b2cb76",
   "metadata": {},
   "outputs": [
    {
     "data": {
      "text/plain": [
       "Customer                    object\n",
       "St                          object\n",
       "Gender                      object\n",
       "Customer lifetime value     object\n",
       "Income                     float64\n",
       "Monthly premium auto       float64\n",
       "Policy type                 object\n",
       "Vehicle class               object\n",
       "Total claim amount         float64\n",
       "State                       object\n",
       "dtype: object"
      ]
     },
     "execution_count": 58,
     "metadata": {},
     "output_type": "execute_result"
    }
   ],
   "source": [
    "data.dtypes"
   ]
  },
  {
   "cell_type": "code",
   "execution_count": 60,
   "id": "caab6698-6bb1-4851-ba94-d7ef38b59468",
   "metadata": {},
   "outputs": [
    {
     "ename": "ValueError",
     "evalue": "cannot convert float NaN to integer",
     "output_type": "error",
     "traceback": [
      "\u001b[1;31m---------------------------------------------------------------------------\u001b[0m",
      "\u001b[1;31mValueError\u001b[0m                                Traceback (most recent call last)",
      "Input \u001b[1;32mIn [60]\u001b[0m, in \u001b[0;36m<cell line: 2>\u001b[1;34m()\u001b[0m\n\u001b[0;32m      1\u001b[0m col \u001b[38;5;241m=\u001b[39m []\n\u001b[0;32m      2\u001b[0m \u001b[38;5;28;01mfor\u001b[39;00m c \u001b[38;5;129;01min\u001b[39;00m data[\u001b[38;5;124m'\u001b[39m\u001b[38;5;124mCustomer lifetime value\u001b[39m\u001b[38;5;124m'\u001b[39m]:\n\u001b[1;32m----> 3\u001b[0m     col\u001b[38;5;241m.\u001b[39mappend(\u001b[38;5;28;43mint\u001b[39;49m\u001b[43m(\u001b[49m\u001b[43mc\u001b[49m\u001b[43m)\u001b[49m\u001b[38;5;241m*\u001b[39m\u001b[38;5;241m100\u001b[39m)\n\u001b[0;32m      4\u001b[0m data[\u001b[38;5;124m'\u001b[39m\u001b[38;5;124mCustomer lifetime value\u001b[39m\u001b[38;5;124m'\u001b[39m]\u001b[38;5;241m=\u001b[39mcols\n",
      "\u001b[1;31mValueError\u001b[0m: cannot convert float NaN to integer"
     ]
    }
   ],
   "source": [
    "\n",
    "col = []\n",
    "for c in data['Customer lifetime value']:\n",
    "    col.append(int(c)*100)\n",
    "data['Customer lifetime value']=cols"
   ]
  },
  {
   "cell_type": "code",
   "execution_count": 61,
   "id": "1abb4a87-3688-4ef7-9dfb-e1155e792e25",
   "metadata": {},
   "outputs": [
    {
     "data": {
      "text/plain": [
       "Customer                    object\n",
       "St                          object\n",
       "Gender                      object\n",
       "Customer lifetime value     object\n",
       "Income                     float64\n",
       "Monthly premium auto       float64\n",
       "Policy type                 object\n",
       "Vehicle class               object\n",
       "Total claim amount         float64\n",
       "State                       object\n",
       "dtype: object"
      ]
     },
     "execution_count": 61,
     "metadata": {},
     "output_type": "execute_result"
    }
   ],
   "source": [
    "data.dtypes"
   ]
  },
  {
   "cell_type": "code",
   "execution_count": 62,
   "id": "c7bfb412-33d8-4a47-99d3-a777b64e50e4",
   "metadata": {},
   "outputs": [
    {
     "data": {
      "text/html": [
       "<div>\n",
       "<style scoped>\n",
       "    .dataframe tbody tr th:only-of-type {\n",
       "        vertical-align: middle;\n",
       "    }\n",
       "\n",
       "    .dataframe tbody tr th {\n",
       "        vertical-align: top;\n",
       "    }\n",
       "\n",
       "    .dataframe thead th {\n",
       "        text-align: right;\n",
       "    }\n",
       "</style>\n",
       "<table border=\"1\" class=\"dataframe\">\n",
       "  <thead>\n",
       "    <tr style=\"text-align: right;\">\n",
       "      <th></th>\n",
       "      <th>Customer</th>\n",
       "      <th>St</th>\n",
       "      <th>Gender</th>\n",
       "      <th>Customer lifetime value</th>\n",
       "      <th>Income</th>\n",
       "      <th>Monthly premium auto</th>\n",
       "      <th>Policy type</th>\n",
       "      <th>Vehicle class</th>\n",
       "      <th>Total claim amount</th>\n",
       "      <th>State</th>\n",
       "    </tr>\n",
       "  </thead>\n",
       "  <tbody>\n",
       "    <tr>\n",
       "      <th>1072</th>\n",
       "      <td>NaN</td>\n",
       "      <td>NaN</td>\n",
       "      <td>NaN</td>\n",
       "      <td>NaN</td>\n",
       "      <td>NaN</td>\n",
       "      <td>NaN</td>\n",
       "      <td>NaN</td>\n",
       "      <td>NaN</td>\n",
       "      <td>NaN</td>\n",
       "      <td>NaN</td>\n",
       "    </tr>\n",
       "    <tr>\n",
       "      <th>1073</th>\n",
       "      <td>NaN</td>\n",
       "      <td>NaN</td>\n",
       "      <td>NaN</td>\n",
       "      <td>NaN</td>\n",
       "      <td>NaN</td>\n",
       "      <td>NaN</td>\n",
       "      <td>NaN</td>\n",
       "      <td>NaN</td>\n",
       "      <td>NaN</td>\n",
       "      <td>NaN</td>\n",
       "    </tr>\n",
       "    <tr>\n",
       "      <th>1074</th>\n",
       "      <td>NaN</td>\n",
       "      <td>NaN</td>\n",
       "      <td>NaN</td>\n",
       "      <td>NaN</td>\n",
       "      <td>NaN</td>\n",
       "      <td>NaN</td>\n",
       "      <td>NaN</td>\n",
       "      <td>NaN</td>\n",
       "      <td>NaN</td>\n",
       "      <td>NaN</td>\n",
       "    </tr>\n",
       "    <tr>\n",
       "      <th>1075</th>\n",
       "      <td>NaN</td>\n",
       "      <td>NaN</td>\n",
       "      <td>NaN</td>\n",
       "      <td>NaN</td>\n",
       "      <td>NaN</td>\n",
       "      <td>NaN</td>\n",
       "      <td>NaN</td>\n",
       "      <td>NaN</td>\n",
       "      <td>NaN</td>\n",
       "      <td>NaN</td>\n",
       "    </tr>\n",
       "    <tr>\n",
       "      <th>1076</th>\n",
       "      <td>NaN</td>\n",
       "      <td>NaN</td>\n",
       "      <td>NaN</td>\n",
       "      <td>NaN</td>\n",
       "      <td>NaN</td>\n",
       "      <td>NaN</td>\n",
       "      <td>NaN</td>\n",
       "      <td>NaN</td>\n",
       "      <td>NaN</td>\n",
       "      <td>NaN</td>\n",
       "    </tr>\n",
       "    <tr>\n",
       "      <th>...</th>\n",
       "      <td>...</td>\n",
       "      <td>...</td>\n",
       "      <td>...</td>\n",
       "      <td>...</td>\n",
       "      <td>...</td>\n",
       "      <td>...</td>\n",
       "      <td>...</td>\n",
       "      <td>...</td>\n",
       "      <td>...</td>\n",
       "      <td>...</td>\n",
       "    </tr>\n",
       "    <tr>\n",
       "      <th>4006</th>\n",
       "      <td>NaN</td>\n",
       "      <td>NaN</td>\n",
       "      <td>NaN</td>\n",
       "      <td>NaN</td>\n",
       "      <td>NaN</td>\n",
       "      <td>NaN</td>\n",
       "      <td>NaN</td>\n",
       "      <td>NaN</td>\n",
       "      <td>NaN</td>\n",
       "      <td>NaN</td>\n",
       "    </tr>\n",
       "    <tr>\n",
       "      <th>4007</th>\n",
       "      <td>NaN</td>\n",
       "      <td>NaN</td>\n",
       "      <td>NaN</td>\n",
       "      <td>NaN</td>\n",
       "      <td>NaN</td>\n",
       "      <td>NaN</td>\n",
       "      <td>NaN</td>\n",
       "      <td>NaN</td>\n",
       "      <td>NaN</td>\n",
       "      <td>NaN</td>\n",
       "    </tr>\n",
       "    <tr>\n",
       "      <th>0</th>\n",
       "      <td>GS98873</td>\n",
       "      <td>Arizona</td>\n",
       "      <td>F</td>\n",
       "      <td>323912.47%</td>\n",
       "      <td>16061.0</td>\n",
       "      <td>88.0</td>\n",
       "      <td>Personal Auto</td>\n",
       "      <td>Four-Door Car</td>\n",
       "      <td>633.6</td>\n",
       "      <td>NaN</td>\n",
       "    </tr>\n",
       "    <tr>\n",
       "      <th>1</th>\n",
       "      <td>CW49887</td>\n",
       "      <td>California</td>\n",
       "      <td>F</td>\n",
       "      <td>462680.11%</td>\n",
       "      <td>79487.0</td>\n",
       "      <td>114.0</td>\n",
       "      <td>Special Auto</td>\n",
       "      <td>SUV</td>\n",
       "      <td>547.2</td>\n",
       "      <td>NaN</td>\n",
       "    </tr>\n",
       "    <tr>\n",
       "      <th>2</th>\n",
       "      <td>MY31220</td>\n",
       "      <td>California</td>\n",
       "      <td>F</td>\n",
       "      <td>899704.02%</td>\n",
       "      <td>54230.0</td>\n",
       "      <td>112.0</td>\n",
       "      <td>Personal Auto</td>\n",
       "      <td>Two-Door Car</td>\n",
       "      <td>537.6</td>\n",
       "      <td>NaN</td>\n",
       "    </tr>\n",
       "  </tbody>\n",
       "</table>\n",
       "<p>2939 rows × 10 columns</p>\n",
       "</div>"
      ],
      "text/plain": [
       "     Customer          St Gender Customer lifetime value   Income  \\\n",
       "1072      NaN         NaN    NaN                     NaN      NaN   \n",
       "1073      NaN         NaN    NaN                     NaN      NaN   \n",
       "1074      NaN         NaN    NaN                     NaN      NaN   \n",
       "1075      NaN         NaN    NaN                     NaN      NaN   \n",
       "1076      NaN         NaN    NaN                     NaN      NaN   \n",
       "...       ...         ...    ...                     ...      ...   \n",
       "4006      NaN         NaN    NaN                     NaN      NaN   \n",
       "4007      NaN         NaN    NaN                     NaN      NaN   \n",
       "0     GS98873     Arizona      F              323912.47%  16061.0   \n",
       "1     CW49887  California      F              462680.11%  79487.0   \n",
       "2     MY31220  California      F              899704.02%  54230.0   \n",
       "\n",
       "      Monthly premium auto    Policy type  Vehicle class  Total claim amount  \\\n",
       "1072                   NaN            NaN            NaN                 NaN   \n",
       "1073                   NaN            NaN            NaN                 NaN   \n",
       "1074                   NaN            NaN            NaN                 NaN   \n",
       "1075                   NaN            NaN            NaN                 NaN   \n",
       "1076                   NaN            NaN            NaN                 NaN   \n",
       "...                    ...            ...            ...                 ...   \n",
       "4006                   NaN            NaN            NaN                 NaN   \n",
       "4007                   NaN            NaN            NaN                 NaN   \n",
       "0                     88.0  Personal Auto  Four-Door Car               633.6   \n",
       "1                    114.0   Special Auto            SUV               547.2   \n",
       "2                    112.0  Personal Auto   Two-Door Car               537.6   \n",
       "\n",
       "     State  \n",
       "1072   NaN  \n",
       "1073   NaN  \n",
       "1074   NaN  \n",
       "1075   NaN  \n",
       "1076   NaN  \n",
       "...    ...  \n",
       "4006   NaN  \n",
       "4007   NaN  \n",
       "0      NaN  \n",
       "1      NaN  \n",
       "2      NaN  \n",
       "\n",
       "[2939 rows x 10 columns]"
      ]
     },
     "execution_count": 62,
     "metadata": {},
     "output_type": "execute_result"
    }
   ],
   "source": [
    "data.loc[data.duplicated()]"
   ]
  },
  {
   "cell_type": "code",
   "execution_count": 65,
   "id": "1ceb2f37-68ba-4d77-82c9-e1feb627f0af",
   "metadata": {},
   "outputs": [],
   "source": [
    "data=data.drop_duplicates()"
   ]
  },
  {
   "cell_type": "code",
   "execution_count": null,
   "id": "8f124daf-94fc-4cbb-8f56-ca29b70f07b5",
   "metadata": {},
   "outputs": [],
   "source": []
  }
 ],
 "metadata": {
  "kernelspec": {
   "display_name": "Python 3 (ipykernel)",
   "language": "python",
   "name": "python3"
  },
  "language_info": {
   "codemirror_mode": {
    "name": "ipython",
    "version": 3
   },
   "file_extension": ".py",
   "mimetype": "text/x-python",
   "name": "python",
   "nbconvert_exporter": "python",
   "pygments_lexer": "ipython3",
   "version": "3.9.12"
  }
 },
 "nbformat": 4,
 "nbformat_minor": 5
}
