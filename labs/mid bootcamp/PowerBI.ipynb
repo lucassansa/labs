{
 "cells": [
  {
   "cell_type": "markdown",
   "id": "d3cb66ee-b76b-4c3a-a04d-d983b417d599",
   "metadata": {},
   "source": [
    "# PowerBi - Regression\n",
    "\n",
    "In this part of the project you will work with the data set `regression.xls` and use PowerBI to answer the questions below: \n",
    "\n",
    "**PowerBI Questions:**\n",
    "\n",
    "1. Convert the necessary data types while getting the data (hint: transform), ensuring categorical fields are held as text and date types are used where possible. \n",
    "2. Using appropriate titles, axis labels, font sizes and chart types, plot the distribution of price vs number of bedrooms, price vs. number of bathrooms, price vs condition, price vs floors, price vs grade, price vs view and price vs waterfront.\n",
    "State your observations for each one of these graphs. Do you see any trends in prices with certain variables? This can be useful to identify cleaning operations that you might need to perform later. \n",
    "3. Plot the relationship between price and sqft values. What do the different sqft values reveal? \n",
    "4. Using powerbi, identify which state is presented in the data. Use longitude, latitude and zip code (hint: data category). Color code the zip code areas based on the average price of a house sold in that zip code to see which areas are more expensive than others, using an appropriate color scale. \n",
    "5. Create a plot to check which are the most sold properties based on the number of bedrooms in the house. This should show the count of rows in the data by the number of bedrooms as a category. \n",
    "6. We want to see the trend in house prices based on the year built. From our previous plot, we know that most of our customers are interested in three and four bedroom houses. Set a filter for bedrooms to select those properties and compare the trends in sale prices using line charts. \n",
    "7. Create a group column called \"year_built_bin\" by creating buckets as follows: houses built between 1900 and 1930 - Category A, houses built between 1930 and 1960 - Category B, between 1960 and 1990 - Category C and houses built after 1990, Category D. Compare the prices of houses for the four categories- which has the highest average and the biggest range in price? \n",
    "8. Now we want to deep dive into the categories we created in the last question. Let's see how many properties are in each of the three categories. Indicate the numbers as labels on each of the three categories. \n",
    "9. In more plots, deep dive into Categories A to D using filters/values from other fields in the data. Identify at least 2 characteristics that appear in each category other than the year the houses were built. \n",
    "10. Create a visually appealing one page summary report or dashboard to represent the information discovered in this analysis along with any other insights you want to highlight. \n",
    "\n",
    "<br><br>\n",
    "\n",
    "**Some points to keep in mind while working on the PowerBI questions:**\n",
    "\n",
    "  a) The plots should be well labeled briefly describing the purpose of the plot <br>\n",
    "  b) Select the chart type that produces an effective outcome for a given scenario <br>\n",
    "  c) Focus audience attention on the most important data <br>\n",
    "  d) Use space, color and fonts appropriately <br>\n",
    "  e) Use the correct title for the plots. <br>\n",
    "  f) Utilize formatted tooltips and descriptive titles <br>\n",
    "  g) Format the axes wherever necessary <br>\n",
    "  h) Use the caption to add details wherever necessary <br>\n",
    "  i) Use appropriate level of details with labels and color coding etc. <br>\n",
    "  j) For the dashboard, make sure that the information represented is clear and easy to understand. The user of the dashboard should be able to understand the purpose of the dashboard and should be able to make decisions by looking at the plots presented. <br>\n",
    "  k) You can also use filters wherever appropriate to give the user the flexibility to view different information easily <br>\n"
   ]
  },
  {
   "cell_type": "code",
   "execution_count": null,
   "id": "561c7d4b-f569-4f58-a623-f81b823daa55",
   "metadata": {},
   "outputs": [],
   "source": []
  }
 ],
 "metadata": {
  "kernelspec": {
   "display_name": "Python 3 (ipykernel)",
   "language": "python",
   "name": "python3"
  },
  "language_info": {
   "codemirror_mode": {
    "name": "ipython",
    "version": 3
   },
   "file_extension": ".py",
   "mimetype": "text/x-python",
   "name": "python",
   "nbconvert_exporter": "python",
   "pygments_lexer": "ipython3",
   "version": "3.9.12"
  }
 },
 "nbformat": 4,
 "nbformat_minor": 5
}
